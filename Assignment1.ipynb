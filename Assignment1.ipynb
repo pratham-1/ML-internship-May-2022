{
 "cells": [
  {
   "cell_type": "code",
   "execution_count": null,
   "id": "1fd29c2a",
   "metadata": {},
   "outputs": [],
   "source": [
    "n=int(input(\"enter number : \"))\n",
    "i=0\n",
    "while(n >= 1):\n",
    "    i+=1\n",
    "    n=n/10\n",
    "print(i)"
   ]
  },
  {
   "cell_type": "code",
   "execution_count": null,
   "id": "d0ea87c8",
   "metadata": {},
   "outputs": [],
   "source": [
    "relation = input(\"enter relation name : \")\n",
    "if relation == \"Darth Vader\":\n",
    "  print(\"Father \")\n",
    "elif relation == \"Leia\":\n",
    "  print(\"Sister\")\n",
    "elif relation == \"Han\":\n",
    "  print(\"Brother in Law\")\n",
    "elif relation == \"R2D2\":\n",
    "  print(\"Droid\")\n",
    "else:\n",
    "  print(\"invalid\")"
   ]
  },
  {
   "cell_type": "code",
   "execution_count": null,
   "id": "565ec14a",
   "metadata": {},
   "outputs": [],
   "source": [
    "n=int(input(\"enter number : \"))\n",
    "i=0\n",
    "while(n >= 1):\n",
    "    i+=1\n",
    "    n=n/10\n",
    "print(i)"
   ]
  },
  {
   "cell_type": "code",
   "execution_count": null,
   "id": "2aefd17c",
   "metadata": {},
   "outputs": [],
   "source": [
    "import math\n",
    "n=int(input(\"enter number : \"))\n",
    "r=1\n",
    "while(n >= 1):\n",
    "    r = r * math.factorial(n)\n",
    "    n -=1\n",
    "print(r)"
   ]
  },
  {
   "cell_type": "code",
   "execution_count": null,
   "id": "5a594d9a",
   "metadata": {},
   "outputs": [],
   "source": [
    "def result(n):\n",
    "    r=0;\n",
    "    while n>0:\n",
    "        i=int(input(\"enter number : \"))\n",
    "        r=r+i**2\n",
    "        n=n-1;\n",
    "    print(r)"
   ]
  },
  {
   "cell_type": "code",
   "execution_count": null,
   "id": "1ddab5b1",
   "metadata": {},
   "outputs": [],
   "source": [
    "def method(n1,n2,sign):\n",
    "    if sign == \"+\":\n",
    "        print(\"result = \" + str(n1 + n2))\n",
    "    elif sign == \"-\":\n",
    "        print(\"result = \" + str(n1 - n2))\n",
    "    elif sign == \"*\":\n",
    "        print(\"result = \" + str(n1 * n2))\n",
    "    elif sign == \"/\":\n",
    "        print(\"result = \" + str(n1 / n2))"
   ]
  },
  {
   "cell_type": "code",
   "execution_count": null,
   "id": "9607ccb5",
   "metadata": {},
   "outputs": [],
   "source": [
    "n=int(input(\"enter number : \"))\n",
    "while(n>0):\n",
    "    if((n%10)%2) == 1:\n",
    "        print(\"I CAN\",end=\" \")\n",
    "    else:\n",
    "        print(\"I WILL\",end=\" \")\n",
    "    n=n-1\n"
   ]
  },
  {
   "cell_type": "code",
   "execution_count": 2,
   "id": "f4df2ea5",
   "metadata": {},
   "outputs": [
    {
     "name": "stdout",
     "output_type": "stream",
     "text": [
      "enter number : 8\n",
      "enter l1\n",
      "enter 1\n",
      "enter 3\n",
      "enter 2\n",
      "enter 4\n",
      "enter 3\n",
      "enter 2\n",
      "enter 1\n",
      "enter 4\n",
      "4\n"
     ]
    }
   ],
   "source": [
    "#l1=[1, 1, 2, 3, 2, 4, 5, 4, 5,7,8]\n",
    "\n",
    "l1=[]\n",
    "l2=l1\n",
    "n1=int(input(\"enter number : \"))\n",
    "print(\"enter l1\")\n",
    "for i in range(0,n1):\n",
    "    l=int(input(\"enter \"))\n",
    "    l1.append(l)\n",
    "\n",
    "l2=l1\n",
    "\n",
    "c=0\n",
    "for i in range(0,len(l1)):\n",
    "    for j in range(i+1,len(l1)):\n",
    "        if l1[i]==l2[j] :\n",
    "            c=c+1\n",
    "            break\n",
    "                  \n",
    "print(\"count = \" + str(c))\n"
   ]
  },
  {
   "cell_type": "code",
   "execution_count": 4,
   "id": "af7e80cf",
   "metadata": {},
   "outputs": [
    {
     "name": "stdout",
     "output_type": "stream",
     "text": [
      "enter number : 3\n",
      "enter number : 1\n",
      "enter x\n",
      "4\n",
      "2\n",
      "1\n",
      "enter y\n",
      "3\n",
      "sorted array = [1 2 3 4]\n",
      "Consecutive : True\n"
     ]
    }
   ],
   "source": [
    "import numpy as np\n",
    "x=[]\n",
    "y=[]\n",
    "n1=int(input(\"enter number : \"))\n",
    "n2=int(input(\"enter number : \"))\n",
    "\n",
    "print(\"enter x\")\n",
    "for i in range(0,n1):\n",
    "    l=int(input(\"enter \"))\n",
    "    x.append(l)\n",
    "    \n",
    "print(\"enter y\")\n",
    "for j in range(0,n2):\n",
    "    l=int(input(\"enter \"))\n",
    "    y.append(l)\n",
    "    \n",
    "#x=[4 ,3 ,5 ,2]\n",
    "#y=[1 ,8 ,7 ,6]\n",
    "z = np.concatenate((x, y))\n",
    "z.sort()\n",
    "print(\"sorted array = \"+str(z))\n",
    "for i in range(1,len(z)):\n",
    "    if z[i]-z[i-1] != 1 :\n",
    "        print(\"Consecutive : False\")    \n",
    "        break\n",
    "if i == len(z)-1 :\n",
    "    print(\"Consecutive : True\")"
   ]
  },
  {
   "cell_type": "code",
   "execution_count": null,
   "id": "923f7f6d",
   "metadata": {},
   "outputs": [],
   "source": [
    "costprice = int(input(\"enter cost price in $ : \"))\n",
    "sellingprice = int(input(\"enter selling price in $ : \"))\n",
    "inventory = int(input(\"enter inventory : \"))\n",
    "profit = inventory * (sellingprice-costprice)\n",
    "print(\"profit = $\" +str(profit))"
   ]
  }
 ],
 "metadata": {
  "kernelspec": {
   "display_name": "Python 3",
   "language": "python",
   "name": "python3"
  },
  "language_info": {
   "codemirror_mode": {
    "name": "ipython",
    "version": 3
   },
   "file_extension": ".py",
   "mimetype": "text/x-python",
   "name": "python",
   "nbconvert_exporter": "python",
   "pygments_lexer": "ipython3",
   "version": "3.8.8"
  }
 },
 "nbformat": 4,
 "nbformat_minor": 5
}
